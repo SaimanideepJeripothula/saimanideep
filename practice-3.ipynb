{
 "cells": [
  {
   "cell_type": "markdown",
   "id": "222e2fdf",
   "metadata": {},
   "source": [
    "#  NUmpy commands basics:"
   ]
  },
  {
   "cell_type": "code",
   "execution_count": 1,
   "id": "eaee66e2",
   "metadata": {
    "ExecuteTime": {
     "end_time": "2022-12-07T10:37:56.192222Z",
     "start_time": "2022-12-07T10:37:56.176506Z"
    }
   },
   "outputs": [],
   "source": [
    "import warnings\n",
    "warnings.filterwarnings('ignore')"
   ]
  },
  {
   "cell_type": "code",
   "execution_count": 6,
   "id": "2a9956a9",
   "metadata": {
    "ExecuteTime": {
     "end_time": "2022-12-07T10:41:54.002313Z",
     "start_time": "2022-12-07T10:41:53.992022Z"
    }
   },
   "outputs": [],
   "source": [
    "import pandas as pd\n",
    "#working on numpy(numerical python)\n",
    "import numpy as np\n",
    "import matplotlib.pyplot as plt"
   ]
  },
  {
   "cell_type": "code",
   "execution_count": 7,
   "id": "0dc79cf7",
   "metadata": {
    "ExecuteTime": {
     "end_time": "2022-12-07T10:44:36.442773Z",
     "start_time": "2022-12-07T10:44:36.429852Z"
    }
   },
   "outputs": [
    {
     "data": {
      "text/plain": [
       "array([[1, 2, 3, 4],\n",
       "       [4, 5, 6, 7]])"
      ]
     },
     "execution_count": 7,
     "metadata": {},
     "output_type": "execute_result"
    }
   ],
   "source": [
    "# creating an array\n",
    "a=np.array([(1,2,3,4),(4,5,6,7)])\n",
    "a"
   ]
  },
  {
   "cell_type": "code",
   "execution_count": 8,
   "id": "5904e34c",
   "metadata": {
    "ExecuteTime": {
     "end_time": "2022-12-07T10:46:18.502428Z",
     "start_time": "2022-12-07T10:46:18.488224Z"
    }
   },
   "outputs": [
    {
     "data": {
      "text/plain": [
       "numpy.ndarray"
      ]
     },
     "execution_count": 8,
     "metadata": {},
     "output_type": "execute_result"
    }
   ],
   "source": [
    "#type of data is\n",
    "type(a)"
   ]
  },
  {
   "cell_type": "code",
   "execution_count": 9,
   "id": "271296ee",
   "metadata": {
    "ExecuteTime": {
     "end_time": "2022-12-07T10:46:39.682764Z",
     "start_time": "2022-12-07T10:46:39.673287Z"
    }
   },
   "outputs": [
    {
     "data": {
      "text/plain": [
       "(2, 4)"
      ]
     },
     "execution_count": 9,
     "metadata": {},
     "output_type": "execute_result"
    }
   ],
   "source": [
    "#gives no of rows and columns in the array\n",
    "a.shape"
   ]
  },
  {
   "cell_type": "code",
   "execution_count": 11,
   "id": "50915f32",
   "metadata": {
    "ExecuteTime": {
     "end_time": "2022-12-07T10:48:12.951814Z",
     "start_time": "2022-12-07T10:48:12.938002Z"
    }
   },
   "outputs": [
    {
     "data": {
      "text/plain": [
       "8"
      ]
     },
     "execution_count": 11,
     "metadata": {},
     "output_type": "execute_result"
    }
   ],
   "source": [
    "#this command gives no of elements present in the array\n",
    "a.size"
   ]
  },
  {
   "cell_type": "code",
   "execution_count": 15,
   "id": "ed4cc34a",
   "metadata": {
    "ExecuteTime": {
     "end_time": "2022-12-07T10:50:21.287800Z",
     "start_time": "2022-12-07T10:50:21.274093Z"
    }
   },
   "outputs": [
    {
     "data": {
      "text/plain": [
       "array([[1, 2],\n",
       "       [3, 4],\n",
       "       [4, 5],\n",
       "       [6, 7]])"
      ]
     },
     "execution_count": 15,
     "metadata": {},
     "output_type": "execute_result"
    }
   ],
   "source": [
    "#to reshape columns as rows and rows as columns\n",
    "a=a.reshape(4,2)\n",
    "a"
   ]
  },
  {
   "cell_type": "code",
   "execution_count": 18,
   "id": "cbb3201b",
   "metadata": {
    "ExecuteTime": {
     "end_time": "2022-12-07T10:52:16.697172Z",
     "start_time": "2022-12-07T10:52:16.683253Z"
    }
   },
   "outputs": [
    {
     "data": {
      "text/plain": [
       "array([1, 2, 3, 4])"
      ]
     },
     "execution_count": 18,
     "metadata": {},
     "output_type": "execute_result"
    }
   ],
   "source": [
    "#to find the index location of the ARRAY\n",
    "a[0]"
   ]
  },
  {
   "cell_type": "code",
   "execution_count": 21,
   "id": "34aae4f1",
   "metadata": {
    "ExecuteTime": {
     "end_time": "2022-12-07T10:53:42.778005Z",
     "start_time": "2022-12-07T10:53:42.767929Z"
    }
   },
   "outputs": [
    {
     "data": {
      "text/plain": [
       "3"
      ]
     },
     "execution_count": 21,
     "metadata": {},
     "output_type": "execute_result"
    }
   ],
   "source": [
    "a[0,2]"
   ]
  },
  {
   "cell_type": "code",
   "execution_count": 25,
   "id": "0f5c3af0",
   "metadata": {
    "ExecuteTime": {
     "end_time": "2022-12-07T10:54:24.478278Z",
     "start_time": "2022-12-07T10:54:24.469269Z"
    }
   },
   "outputs": [
    {
     "data": {
      "text/plain": [
       "array([4, 5, 6, 7])"
      ]
     },
     "execution_count": 25,
     "metadata": {},
     "output_type": "execute_result"
    }
   ],
   "source": [
    "a[1]"
   ]
  },
  {
   "cell_type": "code",
   "execution_count": 26,
   "id": "fcf0d3f2",
   "metadata": {
    "ExecuteTime": {
     "end_time": "2022-12-07T10:55:01.658229Z",
     "start_time": "2022-12-07T10:55:01.640053Z"
    }
   },
   "outputs": [
    {
     "data": {
      "text/plain": [
       "1"
      ]
     },
     "execution_count": 26,
     "metadata": {},
     "output_type": "execute_result"
    }
   ],
   "source": [
    "# to get the min value from the array\n",
    "a.min()"
   ]
  },
  {
   "cell_type": "code",
   "execution_count": 27,
   "id": "2a2f1378",
   "metadata": {
    "ExecuteTime": {
     "end_time": "2022-12-07T10:55:30.028263Z",
     "start_time": "2022-12-07T10:55:30.018135Z"
    }
   },
   "outputs": [
    {
     "data": {
      "text/plain": [
       "7"
      ]
     },
     "execution_count": 27,
     "metadata": {},
     "output_type": "execute_result"
    }
   ],
   "source": [
    "#to get the maximum value from the array\n",
    "a.max()"
   ]
  },
  {
   "cell_type": "code",
   "execution_count": 28,
   "id": "b14b86e7",
   "metadata": {
    "ExecuteTime": {
     "end_time": "2022-12-07T10:56:02.898242Z",
     "start_time": "2022-12-07T10:56:02.884135Z"
    }
   },
   "outputs": [
    {
     "data": {
      "text/plain": [
       "32"
      ]
     },
     "execution_count": 28,
     "metadata": {},
     "output_type": "execute_result"
    }
   ],
   "source": [
    "#to get sum of all the elements in the array\n",
    "a.sum()"
   ]
  },
  {
   "cell_type": "code",
   "execution_count": 29,
   "id": "f5061fc3",
   "metadata": {
    "ExecuteTime": {
     "end_time": "2022-12-07T10:57:39.587843Z",
     "start_time": "2022-12-07T10:57:39.571729Z"
    }
   },
   "outputs": [
    {
     "data": {
      "text/plain": [
       "array([ 5,  7,  9, 11])"
      ]
     },
     "execution_count": 29,
     "metadata": {},
     "output_type": "execute_result"
    }
   ],
   "source": [
    "#axis = 0 makes the row wise operations\n",
    "#axis = 1 makes column wise operations\n",
    "a.sum(axis=0)"
   ]
  },
  {
   "cell_type": "code",
   "execution_count": 30,
   "id": "09812f4e",
   "metadata": {
    "ExecuteTime": {
     "end_time": "2022-12-07T10:58:28.207752Z",
     "start_time": "2022-12-07T10:58:28.191398Z"
    }
   },
   "outputs": [
    {
     "data": {
      "text/plain": [
       "array([10, 22])"
      ]
     },
     "execution_count": 30,
     "metadata": {},
     "output_type": "execute_result"
    }
   ],
   "source": [
    "a.sum(axis=1)"
   ]
  },
  {
   "cell_type": "markdown",
   "id": "0b277a69",
   "metadata": {},
   "source": [
    "#   duplicates\n"
   ]
  },
  {
   "cell_type": "code",
   "execution_count": 37,
   "id": "8d8f2bd4",
   "metadata": {
    "ExecuteTime": {
     "end_time": "2022-12-07T11:10:59.382159Z",
     "start_time": "2022-12-07T11:10:59.367070Z"
    }
   },
   "outputs": [],
   "source": [
    "#creating data frame using pandas(must)\n",
    "dup=pd.DataFrame({'col1':['A','A','B','B','B'],'col2':['2','2','2','3','3']})"
   ]
  },
  {
   "cell_type": "code",
   "execution_count": 38,
   "id": "c32c8fde",
   "metadata": {
    "ExecuteTime": {
     "end_time": "2022-12-07T11:11:02.414435Z",
     "start_time": "2022-12-07T11:11:02.395942Z"
    }
   },
   "outputs": [
    {
     "data": {
      "text/html": [
       "<div>\n",
       "<style scoped>\n",
       "    .dataframe tbody tr th:only-of-type {\n",
       "        vertical-align: middle;\n",
       "    }\n",
       "\n",
       "    .dataframe tbody tr th {\n",
       "        vertical-align: top;\n",
       "    }\n",
       "\n",
       "    .dataframe thead th {\n",
       "        text-align: right;\n",
       "    }\n",
       "</style>\n",
       "<table border=\"1\" class=\"dataframe\">\n",
       "  <thead>\n",
       "    <tr style=\"text-align: right;\">\n",
       "      <th></th>\n",
       "      <th>col1</th>\n",
       "      <th>col2</th>\n",
       "    </tr>\n",
       "  </thead>\n",
       "  <tbody>\n",
       "    <tr>\n",
       "      <th>0</th>\n",
       "      <td>A</td>\n",
       "      <td>2</td>\n",
       "    </tr>\n",
       "    <tr>\n",
       "      <th>1</th>\n",
       "      <td>A</td>\n",
       "      <td>2</td>\n",
       "    </tr>\n",
       "    <tr>\n",
       "      <th>2</th>\n",
       "      <td>B</td>\n",
       "      <td>2</td>\n",
       "    </tr>\n",
       "    <tr>\n",
       "      <th>3</th>\n",
       "      <td>B</td>\n",
       "      <td>3</td>\n",
       "    </tr>\n",
       "    <tr>\n",
       "      <th>4</th>\n",
       "      <td>B</td>\n",
       "      <td>3</td>\n",
       "    </tr>\n",
       "  </tbody>\n",
       "</table>\n",
       "</div>"
      ],
      "text/plain": [
       "  col1 col2\n",
       "0    A    2\n",
       "1    A    2\n",
       "2    B    2\n",
       "3    B    3\n",
       "4    B    3"
      ]
     },
     "execution_count": 38,
     "metadata": {},
     "output_type": "execute_result"
    }
   ],
   "source": [
    "#to open  the created file\n",
    "dup"
   ]
  },
  {
   "cell_type": "code",
   "execution_count": 42,
   "id": "84e96801",
   "metadata": {
    "ExecuteTime": {
     "end_time": "2022-12-07T11:11:45.346952Z",
     "start_time": "2022-12-07T11:11:45.326905Z"
    }
   },
   "outputs": [
    {
     "data": {
      "text/plain": [
       "0    False\n",
       "1     True\n",
       "2    False\n",
       "3    False\n",
       "4     True\n",
       "dtype: bool"
      ]
     },
     "execution_count": 42,
     "metadata": {},
     "output_type": "execute_result"
    }
   ],
   "source": [
    "#to show the duplicated values as true\n",
    "dup.duplicated()"
   ]
  },
  {
   "cell_type": "code",
   "execution_count": 43,
   "id": "1116265d",
   "metadata": {
    "ExecuteTime": {
     "end_time": "2022-12-07T11:15:31.440273Z",
     "start_time": "2022-12-07T11:15:31.420299Z"
    }
   },
   "outputs": [
    {
     "data": {
      "text/html": [
       "<div>\n",
       "<style scoped>\n",
       "    .dataframe tbody tr th:only-of-type {\n",
       "        vertical-align: middle;\n",
       "    }\n",
       "\n",
       "    .dataframe tbody tr th {\n",
       "        vertical-align: top;\n",
       "    }\n",
       "\n",
       "    .dataframe thead th {\n",
       "        text-align: right;\n",
       "    }\n",
       "</style>\n",
       "<table border=\"1\" class=\"dataframe\">\n",
       "  <thead>\n",
       "    <tr style=\"text-align: right;\">\n",
       "      <th></th>\n",
       "      <th>col1</th>\n",
       "      <th>col2</th>\n",
       "    </tr>\n",
       "  </thead>\n",
       "  <tbody>\n",
       "    <tr>\n",
       "      <th>0</th>\n",
       "      <td>A</td>\n",
       "      <td>2</td>\n",
       "    </tr>\n",
       "    <tr>\n",
       "      <th>2</th>\n",
       "      <td>B</td>\n",
       "      <td>2</td>\n",
       "    </tr>\n",
       "    <tr>\n",
       "      <th>3</th>\n",
       "      <td>B</td>\n",
       "      <td>3</td>\n",
       "    </tr>\n",
       "  </tbody>\n",
       "</table>\n",
       "</div>"
      ],
      "text/plain": [
       "  col1 col2\n",
       "0    A    2\n",
       "2    B    2\n",
       "3    B    3"
      ]
     },
     "execution_count": 43,
     "metadata": {},
     "output_type": "execute_result"
    }
   ],
   "source": [
    "#to remove the duplicated values\n",
    "dup.drop_duplicates()"
   ]
  },
  {
   "cell_type": "code",
   "execution_count": 50,
   "id": "f5c03199",
   "metadata": {
    "ExecuteTime": {
     "end_time": "2022-12-07T11:19:20.527502Z",
     "start_time": "2022-12-07T11:19:20.501571Z"
    }
   },
   "outputs": [
    {
     "data": {
      "text/html": [
       "<div>\n",
       "<style scoped>\n",
       "    .dataframe tbody tr th:only-of-type {\n",
       "        vertical-align: middle;\n",
       "    }\n",
       "\n",
       "    .dataframe tbody tr th {\n",
       "        vertical-align: top;\n",
       "    }\n",
       "\n",
       "    .dataframe thead th {\n",
       "        text-align: right;\n",
       "    }\n",
       "</style>\n",
       "<table border=\"1\" class=\"dataframe\">\n",
       "  <thead>\n",
       "    <tr style=\"text-align: right;\">\n",
       "      <th></th>\n",
       "      <th>col1</th>\n",
       "      <th>col2</th>\n",
       "    </tr>\n",
       "  </thead>\n",
       "  <tbody>\n",
       "    <tr>\n",
       "      <th>1</th>\n",
       "      <td>A</td>\n",
       "      <td>2</td>\n",
       "    </tr>\n",
       "    <tr>\n",
       "      <th>4</th>\n",
       "      <td>B</td>\n",
       "      <td>3</td>\n",
       "    </tr>\n",
       "  </tbody>\n",
       "</table>\n",
       "</div>"
      ],
      "text/plain": [
       "  col1 col2\n",
       "1    A    2\n",
       "4    B    3"
      ]
     },
     "execution_count": 50,
     "metadata": {},
     "output_type": "execute_result"
    }
   ],
   "source": [
    "# to show the duplicated values\n",
    "dup[dup.duplicated()]"
   ]
  },
  {
   "cell_type": "code",
   "execution_count": 52,
   "id": "fa0c7424",
   "metadata": {
    "ExecuteTime": {
     "end_time": "2022-12-07T11:20:44.078080Z",
     "start_time": "2022-12-07T11:20:44.059832Z"
    }
   },
   "outputs": [
    {
     "data": {
      "text/plain": [
       "col1    0\n",
       "col2    0\n",
       "dtype: int64"
      ]
     },
     "execution_count": 52,
     "metadata": {},
     "output_type": "execute_result"
    }
   ],
   "source": [
    "#to check the null values\n",
    "dup.isnull().sum()"
   ]
  },
  {
   "cell_type": "code",
   "execution_count": null,
   "id": "35321b3a",
   "metadata": {},
   "outputs": [],
   "source": []
  }
 ],
 "metadata": {
  "kernelspec": {
   "display_name": "Python 3 (ipykernel)",
   "language": "python",
   "name": "python3"
  },
  "language_info": {
   "codemirror_mode": {
    "name": "ipython",
    "version": 3
   },
   "file_extension": ".py",
   "mimetype": "text/x-python",
   "name": "python",
   "nbconvert_exporter": "python",
   "pygments_lexer": "ipython3",
   "version": "3.9.13"
  }
 },
 "nbformat": 4,
 "nbformat_minor": 5
}
